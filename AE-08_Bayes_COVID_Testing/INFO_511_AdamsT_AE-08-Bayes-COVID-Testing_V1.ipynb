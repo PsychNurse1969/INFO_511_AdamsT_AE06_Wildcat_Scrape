{
 "cells": [
  {
   "cell_type": "markdown",
   "metadata": {},
   "source": [
    "INFO_511_ Application Exercise 08: Bayes-COVID-Testing\n",
    "Author: Todd Adams\n",
    "Date: 2023-10-02\n",
    "Description: We are reviewing Bayes Theorem.\n",
    "Note: I used VS Code and ChatGPT to help me complete this AE."
   ]
  },
  {
   "cell_type": "code",
   "execution_count": null,
   "metadata": {},
   "outputs": [],
   "source": [
    "# Load Packages\n",
    "import os\n",
    "import pandas as pd\n",
    "import matplotlib.pyplot as plt\n",
    "import seaborn as sns\n",
    "\n",
    "# Load the Dataset\n",
    "wildcat = pd.read_csv(\"data/wildcat.csv\")\n",
    "wildcat.head()\n",
    "wildcat.info()"
   ]
  }
 ],
 "metadata": {
  "language_info": {
   "name": "python"
  }
 },
 "nbformat": 4,
 "nbformat_minor": 2
}
