{
 "cells": [
  {
   "cell_type": "markdown",
   "metadata": {},
   "source": [
    "#### This will install the palmerpenguins dataset ####"
   ]
  },
  {
   "cell_type": "code",
   "execution_count": 20,
   "metadata": {},
   "outputs": [
    {
     "name": "stdout",
     "output_type": "stream",
     "text": [
      "Requirement already satisfied: palmerpenguins in c:\\users\\toddadams\\anaconda3\\envs\\py3_12\\lib\\site-packages (0.1.4)\n",
      "Requirement already satisfied: pandas in c:\\users\\toddadams\\anaconda3\\envs\\py3_12\\lib\\site-packages (from palmerpenguins) (2.2.3)\n",
      "Requirement already satisfied: numpy in c:\\users\\toddadams\\anaconda3\\envs\\py3_12\\lib\\site-packages (from palmerpenguins) (2.2.2)\n",
      "Requirement already satisfied: python-dateutil>=2.8.2 in c:\\users\\toddadams\\appdata\\roaming\\python\\python312\\site-packages (from pandas->palmerpenguins) (2.9.0.post0)\n",
      "Requirement already satisfied: pytz>=2020.1 in c:\\users\\toddadams\\anaconda3\\envs\\py3_12\\lib\\site-packages (from pandas->palmerpenguins) (2024.2)\n",
      "Requirement already satisfied: tzdata>=2022.7 in c:\\users\\toddadams\\anaconda3\\envs\\py3_12\\lib\\site-packages (from pandas->palmerpenguins) (2025.1)\n",
      "Requirement already satisfied: six>=1.5 in c:\\users\\toddadams\\appdata\\roaming\\python\\python312\\site-packages (from python-dateutil>=2.8.2->pandas->palmerpenguins) (1.17.0)\n"
     ]
    }
   ],
   "source": [
    "!pip install palmerpenguins\n"
   ]
  },
  {
   "cell_type": "code",
   "execution_count": 21,
   "metadata": {},
   "outputs": [],
   "source": [
    "#### Import necessary libraries ####"
   ]
  },
  {
   "cell_type": "code",
   "execution_count": 22,
   "metadata": {},
   "outputs": [],
   "source": [
    "import numpy as np\n",
    "import pandas as pd\n",
    "import seaborn as sns\n",
    "import matplotlib.pyplot as plt\n",
    "from palmerpenguins import load_penguins\n",
    "\n",
    "#### Load the penguines dataset ####\n",
    "penguins = load_penguins()\n",
    "\n",
    "#### Set theme ####\n",
    "sns.set_theme(style=\"whitegrid\")\n",
    "\n"
   ]
  },
  {
   "cell_type": "markdown",
   "metadata": {},
   "source": [
    "#### Identify and display the unique values in each categorical column"
   ]
  },
  {
   "cell_type": "markdown",
   "metadata": {},
   "source": [
    "\"\"\"We set the variable \"categorical_columns\" equal to the dataframe \"df\" and the method select_dtypes in the list \"objects\" and extracts the names of the columns\n",
    "Then we iterate in the loop \"for col in\" over the variable 'categorical_columns'. Then we print the formatted string \"unique values in\" the set col, print the unique values in the dataframe list col, then we add a separate line by printing \"\\n\" as we iterate. \"\"\""
   ]
  },
  {
   "cell_type": "code",
   "execution_count": 26,
   "metadata": {},
   "outputs": [
    {
     "name": "stdout",
     "output_type": "stream",
     "text": [
      "Unique values in 'species':\n",
      "['Adelie' 'Gentoo' 'Chinstrap']\n",
      "\n",
      "\n",
      "Unique values in 'island':\n",
      "['Torgersen' 'Biscoe' 'Dream']\n",
      "\n",
      "\n",
      "Unique values in 'sex':\n",
      "['male' 'female' nan]\n",
      "\n",
      "\n"
     ]
    }
   ],
   "source": [
    "categorical_columns = penguins.select_dtypes(include=['object']).columns\n",
    "\n",
    "for col in categorical_columns:\n",
    "    print(f\"Unique values in '{col}':\")\n",
    "    print(penguins[col].unique())\n",
    "    print(\"\\n\")\n",
    "\n",
    "\n"
   ]
  },
  {
   "cell_type": "markdown",
   "metadata": {},
   "source": [
    "#### Create a box plot to visualize outliers in the Amount column ####"
   ]
  },
  {
   "cell_type": "markdown",
   "metadata": {},
   "source": [
    "\"\"\"I'm unclear on this point. \"Amount\" isn't a column in this dataset.  I selected the variable bill_length_mm instead. This code calls the matplotlib \"plt\" to create a figure and setting the size to 8 by 6; then it uses Seaborn function boxplot setting the x-axis of the dataframe from the \"bill_length_mm\", it adds the title \"Box Plot of Bill Length mm\", and then uses 'show' to display the plot \"\"\""
   ]
  },
  {
   "cell_type": "code",
   "execution_count": 34,
   "metadata": {},
   "outputs": [
    {
     "data": {
      "image/png": "[encoded data removed]",
      "text/plain": [
       "<Figure size 800x600 with 1 Axes>"
      ]
     },
     "metadata": {},
     "output_type": "display_data"
    }
   ],
   "source": [
    "plt.figure(figsize=(8,6))\n",
    "sns.boxplot(x=penguins[\"bill_length_mm\"])\n",
    "plt.title(\"Box Plot of Bill Length mm\")\n",
    "plt.show()"
   ]
  },
  {
   "cell_type": "markdown",
   "metadata": {},
   "source": [
    "#### Identify outliers using the IQR method and count the number of outliers for each numercial column ####"
   ]
  },
  {
   "cell_type": "markdown",
   "metadata": {},
   "source": [
    "\"\"\" This section of code uses the for x in y function to iterate through the penguins data set. Next we set the variable q25 and calculate it. Next we set the variable q75 and calculate it. Next we set the variable iqr and calculate it using the variables q25 and q75. Next we create the variables lower_bound and upper_bound and calculate them. Next we create the variable outliers from the dataset penguins by comparing the data found in the set column to the variable lower_bound and upper_bound. We print the name of the column along with the outliers.  When I saw that there were no outliers I added the second print statement to display the lower and upper bounds as a check. \"\"\""
   ]
  },
  {
   "cell_type": "code",
   "execution_count": 35,
   "metadata": {},
   "outputs": [
    {
     "name": "stdout",
     "output_type": "stream",
     "text": [
      "bill_length_mm: 0 outliers\n",
      "Lower bound: 25.312500000000004, Upper bound: 62.412499999999994\n",
      "\n",
      "bill_depth_mm: 0 outliers\n",
      "Lower bound: 10.95, Upper bound: 23.349999999999998\n",
      "\n",
      "flipper_length_mm: 0 outliers\n",
      "Lower bound: 155.5, Upper bound: 247.5\n",
      "\n",
      "body_mass_g: 0 outliers\n",
      "Lower bound: 1750.0, Upper bound: 6550.0\n",
      "\n",
      "year: 0 outliers\n",
      "Lower bound: 2004.0, Upper bound: 2012.0\n",
      "\n"
     ]
    }
   ],
   "source": [
    "for column in penguins.select_dtypes(include=np.number).columns:\n",
    "    q25 = penguins[column].quantile(0.25)\n",
    "    q75 = penguins[column].quantile(0.75)\n",
    "    iqr = q75 - q25\n",
    "\n",
    "    lower_bound = q25 - 1.5 * iqr\n",
    "    upper_bound = q75 + 1.5 * iqr\n",
    "\n",
    "    outliers = penguins[(penguins[column] < lower_bound) | (penguins[column] > upper_bound)]\n",
    "                  \n",
    "    print(f\"{column}: {outliers.shape[0]} outliers\")\n",
    "    print(f\"Lower bound: {lower_bound}, Upper bound: {upper_bound}\\n\")\n",
    "    "
   ]
  },
  {
   "cell_type": "markdown",
   "metadata": {},
   "source": [
    "#### Check for Missing values in the dataset ####"
   ]
  },
  {
   "cell_type": "markdown",
   "metadata": {},
   "source": [
    "\"\"\"This next piece of code is pretty straight forward. We call data from the dataset penguins, use the function 'isnull' and the function 'sum' to produce the list of missing values.\"\"\""
   ]
  },
  {
   "cell_type": "code",
   "execution_count": 36,
   "metadata": {},
   "outputs": [
    {
     "data": {
      "text/plain": [
       "species               0\n",
       "island                0\n",
       "bill_length_mm        2\n",
       "bill_depth_mm         2\n",
       "flipper_length_mm     2\n",
       "body_mass_g           2\n",
       "sex                  11\n",
       "year                  0\n",
       "dtype: int64"
      ]
     },
     "execution_count": 36,
     "metadata": {},
     "output_type": "execute_result"
    }
   ],
   "source": [
    "penguins.isnull().sum()"
   ]
  },
  {
   "cell_type": "markdown",
   "metadata": {},
   "source": [
    "Summary - This exercise was challenging but fun. The two lecture videos were extremely helpful in basically giving the code for the outliers and IQR portion. Just required a small amount of adjusting.  I think I'm starting to understand what's happening.  Fun!  I did the initial coding myself, but asked ChatGPT to help with some small errors (like missing braces or brackets)."
   ]
  }
 ],
 "metadata": {
  "kernelspec": {
   "display_name": "py3_12",
   "language": "python",
   "name": "python3"
  },
  "language_info": {
   "codemirror_mode": {
    "name": "ipython",
    "version": 3
   },
   "file_extension": ".py",
   "mimetype": "text/x-python",
   "name": "python",
   "nbconvert_exporter": "python",
   "pygments_lexer": "ipython3",
   "version": "3.12.8"
  }
 },
 "nbformat": 4,
 "nbformat_minor": 2
}
