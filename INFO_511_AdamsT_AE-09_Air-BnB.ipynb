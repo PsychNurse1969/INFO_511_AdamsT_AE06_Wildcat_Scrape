{
 "cells": [
  {
   "cell_type": "code",
   "execution_count": null,
   "metadata": {},
   "outputs": [],
   "source": [
    "'''\n",
    "INFO_511_ Application Exercise 09: Hypothesis Testing\n",
    "Author: Todd Adams\n",
    "Date: 2023-10-02\n",
    "Description: We are exploring hypotheses testing related to the data/tucson.csv dataset.\n",
    "'''\n",
    "\n",
    "# Load Packages\n",
    "import numpy as np\n",
    "import pandas as pd\n",
    "import matplotlib.pyplot as plt\n",
    "import seaborn as sns\n",
    "from scipy import stats\n",
    "\n",
    "# Load Data\n",
    "df = pd.read_csv('data/tucson.csv')\n",
    "df.head()\n",
    "df.info()"
   ]
  }
 ],
 "metadata": {
  "language_info": {
   "name": "python"
  }
 },
 "nbformat": 4,
 "nbformat_minor": 2
}
