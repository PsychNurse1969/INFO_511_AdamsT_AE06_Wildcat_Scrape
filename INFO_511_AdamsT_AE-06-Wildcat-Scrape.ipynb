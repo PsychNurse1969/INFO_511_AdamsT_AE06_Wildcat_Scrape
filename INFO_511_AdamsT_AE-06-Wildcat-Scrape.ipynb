{
 "cells": [
  {
   "cell_type": "code",
   "execution_count": null,
   "metadata": {},
   "outputs": [],
   "source": [
    "'''\n",
    "INFO_511_ Application Exercise 06: Wildcat Scrape\n",
    "Author: Todd Adams\n",
    "Date: 2023-10-02\n",
    "Description: We are scraping data from the Arizona Daily Wildcat.\n",
    "'''\n",
    "\n",
    "# Load Packages\n",
    "import pandas as pd\n",
    "\n",
    "\n",
    "# Load the Dataset\n",
    "wildcat = pd.read_csv('data/wildcat.csv')\n",
    "wildcat.head()\n",
    "wildcat.info()\n",
    "\n",
    "'''\n",
    "Who are the most prolific authors of the 100 most recent\n",
    "articles in The Arizona Daily Wildcat?'''\n",
    "\n",
    "# Convert the date column to datetime\n",
    "wildcat['date'] = pd.to_datetime(wildcat['date'], format='%m/%d/%Y')\n",
    "wildcat['date'].head()\n",
    "wildcat['date'].info()\n",
    "\n",
    "# Sort by date in descending order and select the 100 most recent articles\n",
    "most_recent_100 = wildcat.sort_values(by='date', ascending=False).head(100)\n",
    "most_recent_100.head()\n",
    "most_recent_100.info()\n",
    "\n",
    "# Count how many articles each author has written\n",
    "author_counts = most_recent_100['author'].value_counts().reset_index()\n",
    "author_counts.columns = ['author', 'article_count']\n",
    "\n",
    "# Display the results\n",
    "print(author_counts.head())\n",
    "print(f'Total number of authors: {len(author_counts)}')\n",
    "print(f'Total number of articles: {most_recent_100.shape[0]}')\n",
    "\n",
    "'''\n",
    "Draw a line plot of the number of opinion articles published\n",
    "per dat in The Arizona Daily Wildcat.\n",
    "'''\n",
    "\n",
    "\n"
   ]
  },
  {
   "cell_type": "markdown",
   "metadata": {},
   "source": []
  }
 ],
 "metadata": {
  "language_info": {
   "name": "python"
  }
 },
 "nbformat": 4,
 "nbformat_minor": 2
}
